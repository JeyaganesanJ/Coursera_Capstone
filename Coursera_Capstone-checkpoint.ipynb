{
  "nbformat": 4,
  "nbformat_minor": 0,
  "metadata": {
    "colab": {
      "name": "Untitled0.ipynb",
      "provenance": []
    },
    "kernelspec": {
      "name": "python3",
      "display_name": "Python 3"
    },
    "language_info": {
      "name": "python"
    }
  },
  "cells": [
    {
      "cell_type": "markdown",
      "metadata": {
        "id": "UwFhfgJbXbeG"
      },
      "source": [
        "Coursera Capstone"
      ]
    },
    {
      "cell_type": "markdown",
      "metadata": {
        "id": "Nj8g5Ed7XNYA"
      },
      "source": [
        "# 1. Write some markdown to explain that this notebook will be mainly used for the capstone project."
      ]
    },
    {
      "cell_type": "markdown",
      "metadata": {
        "id": "JM_ElYo5XWQM"
      },
      "source": [
        "This notebook will be mainly used for the capstone project for IBM Applied Data Science Capstone course on Coursera.\n",
        "\n",
        "Nice to meet all of you here :)"
      ]
    },
    {
      "cell_type": "code",
      "metadata": {
        "id": "j55TVZRIXyiB"
      },
      "source": [
        "# 2. Import the pandas library as pd\n",
        "import pandas as pd"
      ],
      "execution_count": 1,
      "outputs": []
    },
    {
      "cell_type": "code",
      "metadata": {
        "id": "qhCLyC-AX2W2"
      },
      "source": [
        "# 3. Import the Numpy library as np\n",
        "import numpy as np"
      ],
      "execution_count": 3,
      "outputs": []
    },
    {
      "cell_type": "code",
      "metadata": {
        "colab": {
          "base_uri": "https://localhost:8080/"
        },
        "id": "dbeVEpohX64X",
        "outputId": "86a7d518-733c-40b5-b6c5-6004af56e38e"
      },
      "source": [
        "# 4. Print the following the statement: Hello Capstone Project Course!\n",
        "print(\"Hello Capstone Project Course!\")"
      ],
      "execution_count": 4,
      "outputs": [
        {
          "output_type": "stream",
          "text": [
            "Hello Capstone Project Course!\n"
          ],
          "name": "stdout"
        }
      ]
    }
  ]
}
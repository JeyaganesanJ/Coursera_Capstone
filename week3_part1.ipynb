{
  "nbformat": 4,
  "nbformat_minor": 0,
  "metadata": {
    "colab": {
      "name": "week3_part1.ipynb",
      "provenance": []
    },
    "kernelspec": {
      "name": "python3",
      "display_name": "Python 3"
    },
    "language_info": {
      "name": "python"
    }
  },
  "cells": [
    {
      "cell_type": "code",
      "metadata": {
        "id": "mJPrWM7ikY6Y"
      },
      "source": [
        ""
      ],
      "execution_count": null,
      "outputs": []
    },
    {
      "cell_type": "markdown",
      "metadata": {
        "id": "w_Xkl7Z7ky5V"
      },
      "source": [
        "Segmenting and Clustering Neighborhoods in Toronto - Part **1**"
      ]
    },
    {
      "cell_type": "markdown",
      "metadata": {
        "id": "Bt_uJPFblNBl"
      },
      "source": [
        "Introduction"
      ]
    },
    {
      "cell_type": "markdown",
      "metadata": {
        "id": "KHVyQplhlOll"
      },
      "source": [
        "In this assignment, you will be required to explore and cluster the neighborhoods in Toronto. You will group the neighborhoods into clusters. In this part, we download the dataset in a dataframe to store the data to be explored in the next parts."
      ]
    },
    {
      "cell_type": "markdown",
      "metadata": {
        "id": "0aynexLHlbD2"
      },
      "source": [
        "Before we get the data and start exploring it, let's download all the dependencies that we will need.\n",
        "1. Import libraries"
      ]
    },
    {
      "cell_type": "code",
      "metadata": {
        "colab": {
          "base_uri": "https://localhost:8080/"
        },
        "id": "K0F48GSqlhh1",
        "outputId": "db4acf41-dac5-4208-be2e-77e9fcee716c"
      },
      "source": [
        "import numpy as np # library to handle data in a vectorized manner\n",
        "\n",
        "import pandas as pd # library for data analsysis\n",
        "pd.set_option(\"display.max_columns\", None)\n",
        "pd.set_option(\"display.max_rows\", None)\n",
        "\n",
        "import json # library to handle JSON files\n",
        "\n",
        "from geopy.geocoders import Nominatim # convert an address into latitude and longitude values\n",
        "\n",
        "import requests # library to handle requests\n",
        "from bs4 import BeautifulSoup # library to parse HTML and XML documents\n",
        "\n",
        "from pandas.io.json import json_normalize # tranform JSON file into a pandas dataframe\n",
        "\n",
        "# Matplotlib and associated plotting modules\n",
        "import matplotlib.cm as cm\n",
        "import matplotlib.colors as colors\n",
        "\n",
        "# import k-means from clustering stage\n",
        "from sklearn.cluster import KMeans\n",
        "\n",
        "import folium # map rendering library\n",
        "\n",
        "print(\"Libraries imported.\")"
      ],
      "execution_count": 14,
      "outputs": [
        {
          "output_type": "stream",
          "text": [
            "Libraries imported.\n"
          ],
          "name": "stdout"
        }
      ]
    },
    {
      "cell_type": "markdown",
      "metadata": {
        "id": "jN7b1LIxmx2J"
      },
      "source": [
        "2. Scrap data from Wikipedia page into a DataFrame"
      ]
    },
    {
      "cell_type": "code",
      "metadata": {
        "id": "kIDj0HXYnAjj"
      },
      "source": [
        "# send the GET request\n",
        "data = requests.get('https://en.wikipedia.org/wiki/List_of_postal_codes_of_Canada:_M').text"
      ],
      "execution_count": 16,
      "outputs": []
    },
    {
      "cell_type": "code",
      "metadata": {
        "id": "d30MORMOslJc"
      },
      "source": [
        "# parse data from the html into a beautifulsoup object\n",
        "soup = BeautifulSoup(data, 'html.parser')"
      ],
      "execution_count": 17,
      "outputs": []
    },
    {
      "cell_type": "code",
      "metadata": {
        "id": "tDacZygfuEvN"
      },
      "source": [
        "# create three lists to store table data\n",
        "postalCodeList = []\n",
        "boroughList = []\n",
        "neighborhoodList = []"
      ],
      "execution_count": 18,
      "outputs": []
    },
    {
      "cell_type": "markdown",
      "metadata": {
        "id": "4Zkprnw1ukIp"
      },
      "source": [
        "Using BeautifulSoup"
      ]
    },
    {
      "cell_type": "code",
      "metadata": {
        "id": "9vbJjrJVulEU"
      },
      "source": [
        "# find the table\n",
        "soup.find('table').find_all('tr')\n",
        "\n",
        "# find all the rows of the table\n",
        "soup.find('table').find_all('tr')\n",
        "\n",
        "# for each row of the table, find all the table data\n",
        "for row in soup.find('table').find_all('tr'):\n",
        "    cells = row.find_all('td')"
      ],
      "execution_count": 20,
      "outputs": []
    },
    {
      "cell_type": "code",
      "metadata": {
        "id": "o0wEAyZ1vCbP"
      },
      "source": [
        "# append the data into the respective lists\n",
        "for row in soup.find('table').find_all('tr'):\n",
        "    cells = row.find_all('td')\n",
        "    if(len(cells) > 0):\n",
        "        postalCodeList.append(cells[0].text)\n",
        "        boroughList.append(cells[1].text)\n",
        "        neighborhoodList.append(cells[2].text.rstrip('\\n')) # avoid new lines in neighborhood cell"
      ],
      "execution_count": 21,
      "outputs": []
    },
    {
      "cell_type": "code",
      "metadata": {
        "colab": {
          "base_uri": "https://localhost:8080/",
          "height": 204
        },
        "id": "T_ExNgZCvI0r",
        "outputId": "a9488db2-696d-4ff4-9e65-a6b6f4f16d20"
      },
      "source": [
        "# create a new DataFrame from the three lists\n",
        "toronto_df = pd.DataFrame({\"PostalCode\": postalCodeList,\n",
        "                           \"Borough\": boroughList,\n",
        "                           \"Neighborhood\": neighborhoodList})\n",
        "\n",
        "toronto_df.head()"
      ],
      "execution_count": 22,
      "outputs": [
        {
          "output_type": "execute_result",
          "data": {
            "text/html": [
              "<div>\n",
              "<style scoped>\n",
              "    .dataframe tbody tr th:only-of-type {\n",
              "        vertical-align: middle;\n",
              "    }\n",
              "\n",
              "    .dataframe tbody tr th {\n",
              "        vertical-align: top;\n",
              "    }\n",
              "\n",
              "    .dataframe thead th {\n",
              "        text-align: right;\n",
              "    }\n",
              "</style>\n",
              "<table border=\"1\" class=\"dataframe\">\n",
              "  <thead>\n",
              "    <tr style=\"text-align: right;\">\n",
              "      <th></th>\n",
              "      <th>PostalCode</th>\n",
              "      <th>Borough</th>\n",
              "      <th>Neighborhood</th>\n",
              "    </tr>\n",
              "  </thead>\n",
              "  <tbody>\n",
              "    <tr>\n",
              "      <th>0</th>\n",
              "      <td>\\nM1ANot assigned\\n\\n</td>\n",
              "      <td>\\nM2ANot assigned\\n\\n</td>\n",
              "      <td>\\nM3ANorth York(Parkwoods)</td>\n",
              "    </tr>\n",
              "    <tr>\n",
              "      <th>1</th>\n",
              "      <td>\\nM1BScarborough(Malvern / Rouge)\\n\\n</td>\n",
              "      <td>\\nM2BNot assigned\\n\\n</td>\n",
              "      <td>\\nM3BNorth York(Don Mills)North</td>\n",
              "    </tr>\n",
              "    <tr>\n",
              "      <th>2</th>\n",
              "      <td>\\nM1CScarborough(Rouge Hill / Port Union / Hig...</td>\n",
              "      <td>\\nM2CNot assigned\\n\\n</td>\n",
              "      <td>\\nM3CNorth York(Don Mills)South(Flemingdon Park)</td>\n",
              "    </tr>\n",
              "    <tr>\n",
              "      <th>3</th>\n",
              "      <td>\\nM1EScarborough(Guildwood / Morningside / Wes...</td>\n",
              "      <td>\\nM2ENot assigned\\n\\n</td>\n",
              "      <td>\\nM3ENot assigned</td>\n",
              "    </tr>\n",
              "    <tr>\n",
              "      <th>4</th>\n",
              "      <td>\\nM1GScarborough(Woburn)\\n\\n</td>\n",
              "      <td>\\nM2GNot assigned\\n\\n</td>\n",
              "      <td>\\nM3GNot assigned</td>\n",
              "    </tr>\n",
              "  </tbody>\n",
              "</table>\n",
              "</div>"
            ],
            "text/plain": [
              "                                          PostalCode                Borough  \\\n",
              "0                              \\nM1ANot assigned\\n\\n  \\nM2ANot assigned\\n\\n   \n",
              "1              \\nM1BScarborough(Malvern / Rouge)\\n\\n  \\nM2BNot assigned\\n\\n   \n",
              "2  \\nM1CScarborough(Rouge Hill / Port Union / Hig...  \\nM2CNot assigned\\n\\n   \n",
              "3  \\nM1EScarborough(Guildwood / Morningside / Wes...  \\nM2ENot assigned\\n\\n   \n",
              "4                       \\nM1GScarborough(Woburn)\\n\\n  \\nM2GNot assigned\\n\\n   \n",
              "\n",
              "                                       Neighborhood  \n",
              "0                        \\nM3ANorth York(Parkwoods)  \n",
              "1                   \\nM3BNorth York(Don Mills)North  \n",
              "2  \\nM3CNorth York(Don Mills)South(Flemingdon Park)  \n",
              "3                                 \\nM3ENot assigned  \n",
              "4                                 \\nM3GNot assigned  "
            ]
          },
          "metadata": {
            "tags": []
          },
          "execution_count": 22
        }
      ]
    },
    {
      "cell_type": "markdown",
      "metadata": {
        "id": "4hEBMjl3wGCP"
      },
      "source": [
        "3. Drop cells with a borough that is \"Not assigned\""
      ]
    },
    {
      "cell_type": "code",
      "metadata": {
        "colab": {
          "base_uri": "https://localhost:8080/",
          "height": 204
        },
        "id": "dVZcuBIzwG7T",
        "outputId": "4b5a6d12-0a38-4944-ecf2-91442a9fae08"
      },
      "source": [
        "# drop cells with a borough that is Not assigned\n",
        "toronto_df_dropna = toronto_df[toronto_df.Borough != \"Not assigned\"].reset_index(drop=True)\n",
        "toronto_df_dropna.head()"
      ],
      "execution_count": 23,
      "outputs": [
        {
          "output_type": "execute_result",
          "data": {
            "text/html": [
              "<div>\n",
              "<style scoped>\n",
              "    .dataframe tbody tr th:only-of-type {\n",
              "        vertical-align: middle;\n",
              "    }\n",
              "\n",
              "    .dataframe tbody tr th {\n",
              "        vertical-align: top;\n",
              "    }\n",
              "\n",
              "    .dataframe thead th {\n",
              "        text-align: right;\n",
              "    }\n",
              "</style>\n",
              "<table border=\"1\" class=\"dataframe\">\n",
              "  <thead>\n",
              "    <tr style=\"text-align: right;\">\n",
              "      <th></th>\n",
              "      <th>PostalCode</th>\n",
              "      <th>Borough</th>\n",
              "      <th>Neighborhood</th>\n",
              "    </tr>\n",
              "  </thead>\n",
              "  <tbody>\n",
              "    <tr>\n",
              "      <th>0</th>\n",
              "      <td>\\nM1ANot assigned\\n\\n</td>\n",
              "      <td>\\nM2ANot assigned\\n\\n</td>\n",
              "      <td>\\nM3ANorth York(Parkwoods)</td>\n",
              "    </tr>\n",
              "    <tr>\n",
              "      <th>1</th>\n",
              "      <td>\\nM1BScarborough(Malvern / Rouge)\\n\\n</td>\n",
              "      <td>\\nM2BNot assigned\\n\\n</td>\n",
              "      <td>\\nM3BNorth York(Don Mills)North</td>\n",
              "    </tr>\n",
              "    <tr>\n",
              "      <th>2</th>\n",
              "      <td>\\nM1CScarborough(Rouge Hill / Port Union / Hig...</td>\n",
              "      <td>\\nM2CNot assigned\\n\\n</td>\n",
              "      <td>\\nM3CNorth York(Don Mills)South(Flemingdon Park)</td>\n",
              "    </tr>\n",
              "    <tr>\n",
              "      <th>3</th>\n",
              "      <td>\\nM1EScarborough(Guildwood / Morningside / Wes...</td>\n",
              "      <td>\\nM2ENot assigned\\n\\n</td>\n",
              "      <td>\\nM3ENot assigned</td>\n",
              "    </tr>\n",
              "    <tr>\n",
              "      <th>4</th>\n",
              "      <td>\\nM1GScarborough(Woburn)\\n\\n</td>\n",
              "      <td>\\nM2GNot assigned\\n\\n</td>\n",
              "      <td>\\nM3GNot assigned</td>\n",
              "    </tr>\n",
              "  </tbody>\n",
              "</table>\n",
              "</div>"
            ],
            "text/plain": [
              "                                          PostalCode                Borough  \\\n",
              "0                              \\nM1ANot assigned\\n\\n  \\nM2ANot assigned\\n\\n   \n",
              "1              \\nM1BScarborough(Malvern / Rouge)\\n\\n  \\nM2BNot assigned\\n\\n   \n",
              "2  \\nM1CScarborough(Rouge Hill / Port Union / Hig...  \\nM2CNot assigned\\n\\n   \n",
              "3  \\nM1EScarborough(Guildwood / Morningside / Wes...  \\nM2ENot assigned\\n\\n   \n",
              "4                       \\nM1GScarborough(Woburn)\\n\\n  \\nM2GNot assigned\\n\\n   \n",
              "\n",
              "                                       Neighborhood  \n",
              "0                        \\nM3ANorth York(Parkwoods)  \n",
              "1                   \\nM3BNorth York(Don Mills)North  \n",
              "2  \\nM3CNorth York(Don Mills)South(Flemingdon Park)  \n",
              "3                                 \\nM3ENot assigned  \n",
              "4                                 \\nM3GNot assigned  "
            ]
          },
          "metadata": {
            "tags": []
          },
          "execution_count": 23
        }
      ]
    },
    {
      "cell_type": "markdown",
      "metadata": {
        "id": "W3AnLVZ7wkG5"
      },
      "source": [
        "4. Group neighborhoods in the same borough"
      ]
    },
    {
      "cell_type": "code",
      "metadata": {
        "colab": {
          "base_uri": "https://localhost:8080/",
          "height": 204
        },
        "id": "qGbcNmPpwlkR",
        "outputId": "077ab45b-1f1f-42dc-f682-d328f8ccab53"
      },
      "source": [
        "# group neighborhoods in the same borough\n",
        "toronto_df_grouped = toronto_df_dropna.groupby([\"PostalCode\", \"Borough\"], as_index=False).agg(lambda x: \", \".join(x))\n",
        "toronto_df_grouped.head()"
      ],
      "execution_count": 24,
      "outputs": [
        {
          "output_type": "execute_result",
          "data": {
            "text/html": [
              "<div>\n",
              "<style scoped>\n",
              "    .dataframe tbody tr th:only-of-type {\n",
              "        vertical-align: middle;\n",
              "    }\n",
              "\n",
              "    .dataframe tbody tr th {\n",
              "        vertical-align: top;\n",
              "    }\n",
              "\n",
              "    .dataframe thead th {\n",
              "        text-align: right;\n",
              "    }\n",
              "</style>\n",
              "<table border=\"1\" class=\"dataframe\">\n",
              "  <thead>\n",
              "    <tr style=\"text-align: right;\">\n",
              "      <th></th>\n",
              "      <th>PostalCode</th>\n",
              "      <th>Borough</th>\n",
              "      <th>Neighborhood</th>\n",
              "    </tr>\n",
              "  </thead>\n",
              "  <tbody>\n",
              "    <tr>\n",
              "      <th>0</th>\n",
              "      <td>\\nM1ANot assigned\\n\\n</td>\n",
              "      <td>\\nM2ANot assigned\\n\\n</td>\n",
              "      <td>\\nM3ANorth York(Parkwoods)</td>\n",
              "    </tr>\n",
              "    <tr>\n",
              "      <th>1</th>\n",
              "      <td>\\nM1BScarborough(Malvern / Rouge)\\n\\n</td>\n",
              "      <td>\\nM2BNot assigned\\n\\n</td>\n",
              "      <td>\\nM3BNorth York(Don Mills)North</td>\n",
              "    </tr>\n",
              "    <tr>\n",
              "      <th>2</th>\n",
              "      <td>\\nM1CScarborough(Rouge Hill / Port Union / Hig...</td>\n",
              "      <td>\\nM2CNot assigned\\n\\n</td>\n",
              "      <td>\\nM3CNorth York(Don Mills)South(Flemingdon Park)</td>\n",
              "    </tr>\n",
              "    <tr>\n",
              "      <th>3</th>\n",
              "      <td>\\nM1EScarborough(Guildwood / Morningside / Wes...</td>\n",
              "      <td>\\nM2ENot assigned\\n\\n</td>\n",
              "      <td>\\nM3ENot assigned</td>\n",
              "    </tr>\n",
              "    <tr>\n",
              "      <th>4</th>\n",
              "      <td>\\nM1GScarborough(Woburn)\\n\\n</td>\n",
              "      <td>\\nM2GNot assigned\\n\\n</td>\n",
              "      <td>\\nM3GNot assigned</td>\n",
              "    </tr>\n",
              "  </tbody>\n",
              "</table>\n",
              "</div>"
            ],
            "text/plain": [
              "                                          PostalCode                Borough  \\\n",
              "0                              \\nM1ANot assigned\\n\\n  \\nM2ANot assigned\\n\\n   \n",
              "1              \\nM1BScarborough(Malvern / Rouge)\\n\\n  \\nM2BNot assigned\\n\\n   \n",
              "2  \\nM1CScarborough(Rouge Hill / Port Union / Hig...  \\nM2CNot assigned\\n\\n   \n",
              "3  \\nM1EScarborough(Guildwood / Morningside / Wes...  \\nM2ENot assigned\\n\\n   \n",
              "4                       \\nM1GScarborough(Woburn)\\n\\n  \\nM2GNot assigned\\n\\n   \n",
              "\n",
              "                                       Neighborhood  \n",
              "0                        \\nM3ANorth York(Parkwoods)  \n",
              "1                   \\nM3BNorth York(Don Mills)North  \n",
              "2  \\nM3CNorth York(Don Mills)South(Flemingdon Park)  \n",
              "3                                 \\nM3ENot assigned  \n",
              "4                                 \\nM3GNot assigned  "
            ]
          },
          "metadata": {
            "tags": []
          },
          "execution_count": 24
        }
      ]
    },
    {
      "cell_type": "markdown",
      "metadata": {
        "id": "28CIMnQRwyeY"
      },
      "source": [
        "5. For Neighborhood=\"Not assigned\", make the value the same as Borough"
      ]
    },
    {
      "cell_type": "code",
      "metadata": {
        "colab": {
          "base_uri": "https://localhost:8080/",
          "height": 204
        },
        "id": "L33xpCIowzKv",
        "outputId": "c67f84ac-1808-4f5e-e155-438cfb053556"
      },
      "source": [
        "# for Neighborhood=\"Not assigned\", make the value the same as Borough\n",
        "for index, row in toronto_df_grouped.iterrows():\n",
        "    if row[\"Neighborhood\"] == \"Not assigned\":\n",
        "        row[\"Neighborhood\"] = row[\"Borough\"]\n",
        "        \n",
        "toronto_df_grouped.head()"
      ],
      "execution_count": 25,
      "outputs": [
        {
          "output_type": "execute_result",
          "data": {
            "text/html": [
              "<div>\n",
              "<style scoped>\n",
              "    .dataframe tbody tr th:only-of-type {\n",
              "        vertical-align: middle;\n",
              "    }\n",
              "\n",
              "    .dataframe tbody tr th {\n",
              "        vertical-align: top;\n",
              "    }\n",
              "\n",
              "    .dataframe thead th {\n",
              "        text-align: right;\n",
              "    }\n",
              "</style>\n",
              "<table border=\"1\" class=\"dataframe\">\n",
              "  <thead>\n",
              "    <tr style=\"text-align: right;\">\n",
              "      <th></th>\n",
              "      <th>PostalCode</th>\n",
              "      <th>Borough</th>\n",
              "      <th>Neighborhood</th>\n",
              "    </tr>\n",
              "  </thead>\n",
              "  <tbody>\n",
              "    <tr>\n",
              "      <th>0</th>\n",
              "      <td>\\nM1ANot assigned\\n\\n</td>\n",
              "      <td>\\nM2ANot assigned\\n\\n</td>\n",
              "      <td>\\nM3ANorth York(Parkwoods)</td>\n",
              "    </tr>\n",
              "    <tr>\n",
              "      <th>1</th>\n",
              "      <td>\\nM1BScarborough(Malvern / Rouge)\\n\\n</td>\n",
              "      <td>\\nM2BNot assigned\\n\\n</td>\n",
              "      <td>\\nM3BNorth York(Don Mills)North</td>\n",
              "    </tr>\n",
              "    <tr>\n",
              "      <th>2</th>\n",
              "      <td>\\nM1CScarborough(Rouge Hill / Port Union / Hig...</td>\n",
              "      <td>\\nM2CNot assigned\\n\\n</td>\n",
              "      <td>\\nM3CNorth York(Don Mills)South(Flemingdon Park)</td>\n",
              "    </tr>\n",
              "    <tr>\n",
              "      <th>3</th>\n",
              "      <td>\\nM1EScarborough(Guildwood / Morningside / Wes...</td>\n",
              "      <td>\\nM2ENot assigned\\n\\n</td>\n",
              "      <td>\\nM3ENot assigned</td>\n",
              "    </tr>\n",
              "    <tr>\n",
              "      <th>4</th>\n",
              "      <td>\\nM1GScarborough(Woburn)\\n\\n</td>\n",
              "      <td>\\nM2GNot assigned\\n\\n</td>\n",
              "      <td>\\nM3GNot assigned</td>\n",
              "    </tr>\n",
              "  </tbody>\n",
              "</table>\n",
              "</div>"
            ],
            "text/plain": [
              "                                          PostalCode                Borough  \\\n",
              "0                              \\nM1ANot assigned\\n\\n  \\nM2ANot assigned\\n\\n   \n",
              "1              \\nM1BScarborough(Malvern / Rouge)\\n\\n  \\nM2BNot assigned\\n\\n   \n",
              "2  \\nM1CScarborough(Rouge Hill / Port Union / Hig...  \\nM2CNot assigned\\n\\n   \n",
              "3  \\nM1EScarborough(Guildwood / Morningside / Wes...  \\nM2ENot assigned\\n\\n   \n",
              "4                       \\nM1GScarborough(Woburn)\\n\\n  \\nM2GNot assigned\\n\\n   \n",
              "\n",
              "                                       Neighborhood  \n",
              "0                        \\nM3ANorth York(Parkwoods)  \n",
              "1                   \\nM3BNorth York(Don Mills)North  \n",
              "2  \\nM3CNorth York(Don Mills)South(Flemingdon Park)  \n",
              "3                                 \\nM3ENot assigned  \n",
              "4                                 \\nM3GNot assigned  "
            ]
          },
          "metadata": {
            "tags": []
          },
          "execution_count": 25
        }
      ]
    },
    {
      "cell_type": "markdown",
      "metadata": {
        "id": "j_zok3w2xR7m"
      },
      "source": [
        "6. Check whether it is the same as required by the question"
      ]
    },
    {
      "cell_type": "code",
      "metadata": {
        "colab": {
          "base_uri": "https://localhost:8080/",
          "height": 49
        },
        "id": "jDjh9T6gxS-P",
        "outputId": "75d19983-b9cc-4f6d-d48c-7b4e0a339171"
      },
      "source": [
        "# create a new test dataframe\n",
        "column_names = [\"PostalCode\", \"Borough\", \"Neighborhood\"]\n",
        "test_df = pd.DataFrame(columns=column_names)\n",
        "\n",
        "test_list = [\"M5G\", \"M2H\", \"M4B\", \"M1J\", \"M4G\", \"M4M\", \"M1R\", \"M9V\", \"M9L\", \"M5V\", \"M1B\", \"M5A\"]\n",
        "\n",
        "for postcode in test_list:\n",
        "    test_df = test_df.append(toronto_df_grouped[toronto_df_grouped[\"PostalCode\"]==postcode], ignore_index=True)\n",
        "    \n",
        "test_df"
      ],
      "execution_count": 26,
      "outputs": [
        {
          "output_type": "execute_result",
          "data": {
            "text/html": [
              "<div>\n",
              "<style scoped>\n",
              "    .dataframe tbody tr th:only-of-type {\n",
              "        vertical-align: middle;\n",
              "    }\n",
              "\n",
              "    .dataframe tbody tr th {\n",
              "        vertical-align: top;\n",
              "    }\n",
              "\n",
              "    .dataframe thead th {\n",
              "        text-align: right;\n",
              "    }\n",
              "</style>\n",
              "<table border=\"1\" class=\"dataframe\">\n",
              "  <thead>\n",
              "    <tr style=\"text-align: right;\">\n",
              "      <th></th>\n",
              "      <th>PostalCode</th>\n",
              "      <th>Borough</th>\n",
              "      <th>Neighborhood</th>\n",
              "    </tr>\n",
              "  </thead>\n",
              "  <tbody>\n",
              "  </tbody>\n",
              "</table>\n",
              "</div>"
            ],
            "text/plain": [
              "Empty DataFrame\n",
              "Columns: [PostalCode, Borough, Neighborhood]\n",
              "Index: []"
            ]
          },
          "metadata": {
            "tags": []
          },
          "execution_count": 26
        }
      ]
    },
    {
      "cell_type": "markdown",
      "metadata": {
        "id": "5swxCrStxaX9"
      },
      "source": [
        "7. Finally, print the number of rows of the cleaned dataframe"
      ]
    },
    {
      "cell_type": "code",
      "metadata": {
        "colab": {
          "base_uri": "https://localhost:8080/"
        },
        "id": "NrrGHFWXxdzU",
        "outputId": "66660c5a-c62d-411c-c433-70bd832eec3a"
      },
      "source": [
        "# print the number of rows of the cleaned dataframe\n",
        "toronto_df_grouped.shape"
      ],
      "execution_count": 27,
      "outputs": [
        {
          "output_type": "execute_result",
          "data": {
            "text/plain": [
              "(20, 3)"
            ]
          },
          "metadata": {
            "tags": []
          },
          "execution_count": 27
        }
      ]
    }
  ]
}